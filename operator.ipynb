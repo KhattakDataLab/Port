{
  "nbformat": 4,
  "nbformat_minor": 0,
  "metadata": {
    "colab": {
      "provenance": [],
      "authorship_tag": "ABX9TyM1YpSKlTVzp6xzxU4vaEj6",
      "include_colab_link": true
    },
    "kernelspec": {
      "name": "python3",
      "display_name": "Python 3"
    },
    "language_info": {
      "name": "python"
    }
  },
  "cells": [
    {
      "cell_type": "markdown",
      "metadata": {
        "id": "view-in-github",
        "colab_type": "text"
      },
      "source": [
        "<a href=\"https://colab.research.google.com/github/KhattakDataLab/Port/blob/main/operator.ipynb\" target=\"_parent\"><img src=\"https://colab.research.google.com/assets/colab-badge.svg\" alt=\"Open In Colab\"/></a>"
      ]
    },
    {
      "cell_type": "code",
      "execution_count": null,
      "metadata": {
        "id": "gUTEDB8lqS8m"
      },
      "outputs": [],
      "source": []
    },
    {
      "cell_type": "markdown",
      "source": [
        "#arithmatic operator\n",
        "\n"
      ],
      "metadata": {
        "id": "6zj0IiCQqkr5"
      }
    },
    {
      "cell_type": "code",
      "source": [
        "#addition operator\n",
        "num_1=10\n",
        "num_2=21\n",
        "\n",
        "# Addition operator\n",
        "sum=num_1+num_2\n",
        "print('Sum',sum)\n",
        "\n",
        "#subtraction\n",
        "sub=num_1-num_2\n",
        "print(\"subtract\",sub)\n",
        "\n",
        "#multiplaction\n",
        "mul=num_1*num_2\n",
        "print(\"multiplication \",mul)\n",
        "\n",
        "\n",
        "# division\n",
        "div=num_1/num_2\n",
        "print(\"divison \",div)\n",
        "\n",
        "#exponent\n",
        "exp=num_1 ** num_2\n",
        "print(\"Exponent \",exp)\n",
        "\n",
        "#modolus\n",
        "mod=num_1 % num_2\n",
        "print(\"modolus \",mod)\n",
        "\n"
      ],
      "metadata": {
        "colab": {
          "base_uri": "https://localhost:8080/"
        },
        "id": "EazZ5cM9qsYx",
        "outputId": "865fa15e-f8b3-4c0a-9aeb-9ff32541819a"
      },
      "execution_count": null,
      "outputs": [
        {
          "output_type": "stream",
          "name": "stdout",
          "text": [
            "Sum 31\n",
            "subtract -11\n",
            "multiplication  210\n",
            "divison  0.47619047619047616\n",
            "Exponent  1000000000000000000000\n",
            "modolus  10\n"
          ]
        }
      ]
    },
    {
      "cell_type": "code",
      "source": [],
      "metadata": {
        "id": "J4N-b3yHrGVf"
      },
      "execution_count": null,
      "outputs": []
    },
    {
      "cell_type": "markdown",
      "source": [
        "#Assigment operator\n"
      ],
      "metadata": {
        "id": "m5vvBtbzsvCa"
      }
    },
    {
      "cell_type": "code",
      "source": [
        "a=4\n",
        "a+=3\n",
        "print(a)"
      ],
      "metadata": {
        "colab": {
          "base_uri": "https://localhost:8080/"
        },
        "id": "9jkSwAC6sxwC",
        "outputId": "91a4388a-f6da-4316-8509-b92e041c7e99"
      },
      "execution_count": null,
      "outputs": [
        {
          "output_type": "stream",
          "name": "stdout",
          "text": [
            "7\n"
          ]
        }
      ]
    },
    {
      "cell_type": "code",
      "source": [
        "#logical operator\n",
        "a =10\n",
        "print(a>20 and a<20)  # and operator both conbdition should be true\n",
        "\n",
        "# OR operator itleast one condiotion are true the answer should be true\n",
        "\n",
        "print(a>20 or a<20)\n",
        "\n",
        "\n",
        "#not operator the negation of conditon\n",
        "\n",
        "print(not(a>20 or a<20))\n"
      ],
      "metadata": {
        "colab": {
          "base_uri": "https://localhost:8080/"
        },
        "id": "Jox0Uf57s7FB",
        "outputId": "3cb9eb75-2e2d-4f36-d941-bc4a10b7d097"
      },
      "execution_count": null,
      "outputs": [
        {
          "output_type": "stream",
          "name": "stdout",
          "text": [
            "False\n",
            "True\n",
            "False\n"
          ]
        }
      ]
    },
    {
      "cell_type": "code",
      "source": [
        "# identity operator\n",
        "\n",
        "# is\n",
        "#is not\n",
        "\n",
        "x=3\n",
        "y=3\n",
        "print(x is not  y )"
      ],
      "metadata": {
        "colab": {
          "base_uri": "https://localhost:8080/"
        },
        "id": "s_w4EsATtm_W",
        "outputId": "0f21e6b9-4a4a-4551-9315-71106342eaf5"
      },
      "execution_count": null,
      "outputs": [
        {
          "output_type": "stream",
          "name": "stdout",
          "text": [
            "False\n"
          ]
        }
      ]
    },
    {
      "cell_type": "markdown",
      "source": [
        "Membership operator"
      ],
      "metadata": {
        "id": "IppViTsuvkcd"
      }
    },
    {
      "cell_type": "code",
      "source": [
        "# in\n",
        "#not in\n",
        "a =2\n",
        "b= 4\n",
        "\n",
        "c =[1,2,3,4,5,6,7]\n",
        "print( a in c )\n",
        "print(b not in c )"
      ],
      "metadata": {
        "colab": {
          "base_uri": "https://localhost:8080/"
        },
        "id": "YzoQa-I9vKMh",
        "outputId": "3ad73306-c1a1-4dff-d6c8-5767d64230f2"
      },
      "execution_count": null,
      "outputs": [
        {
          "output_type": "stream",
          "name": "stdout",
          "text": [
            "True\n",
            "False\n"
          ]
        }
      ]
    },
    {
      "cell_type": "code",
      "source": [],
      "metadata": {
        "id": "iwI4JNlrv48o"
      },
      "execution_count": null,
      "outputs": []
    }
  ]
}